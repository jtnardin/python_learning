{
 "cells": [
  {
   "cell_type": "markdown",
   "metadata": {},
   "source": [
    "In this section, we'll show how we can turn words into vectors to show that computers can learn analogies. For example,\n",
    "\n",
    "$$\n",
    "\\textrm{Paris is to France as Rome is to _______ ?}\n",
    "$$\n",
    "\n",
    "Paris is the capital of France, so this analogy is asking which country Rome is the capital of. The answer is [Italy](https://www.britannica.com/place/Italy), of course! But we know this because of geography class. Can a computer learn this on its own? If so, what else can it learn?\n",
    "\n",
    "To explore this question, we'll use some pre-trained vectors from [fastText](https://fasttext.cc/), which was created by Facebook's Artificial Intelligence Lab. The goal of this project is to turn words into mathematical objects and see if mathematical relations can be used to understand our language."
   ]
  },
  {
   "cell_type": "markdown",
   "metadata": {},
   "source": [
    "Let's begin by importing the necessary functions. The FastText_helpers file was taken from [this article](https://medium.com/swlh/playing-with-word-vectors-308ab2faa519) to aid this analysis. You can take a closer look at this file to better understand the math behind this section if you're interested."
   ]
  },
  {
   "cell_type": "code",
   "execution_count": 1,
   "metadata": {},
   "outputs": [],
   "source": [
    "import numpy as np\n",
    "\n",
    "from typing import List\n",
    "import vectors as v\n",
    "from vectors import Vector\n",
    "import FastText_helpers as ft\n",
    "from load import load_words\n",
    "import math\n",
    "import matplotlib.pyplot as plt"
   ]
  },
  {
   "cell_type": "markdown",
   "metadata": {},
   "source": [
    "In this section, we will treat words as vectors, or a list of numbers. We won't go into the details of how a vector is created from a word (that is what fastText does), but we will show how we can use these vectors to understand language better. Run the following cell to load in the words we'll use (about 100,000) and their vectors."
   ]
  },
  {
   "cell_type": "code",
   "execution_count": 2,
   "metadata": {},
   "outputs": [
    {
     "name": "stdout",
     "output_type": "stream",
     "text": [
      "Loading nlp/data/wiki-news-300d-100k.vec...\n",
      "Loaded 100000 words.\n",
      "Removed stop words, 98650 remain.\n",
      "Removed duplicates, 97192 remain.\n"
     ]
    }
   ],
   "source": [
    "words = load_words('nlp/data/wiki-news-300d-100k.vec')"
   ]
  },
  {
   "cell_type": "markdown",
   "metadata": {},
   "source": [
    "Now that we have our data loaded to memory with the variable \"words\", let's take a closer look at what the data looks like. We can look at a word by typing \"words[k]\" for some number, k, between 0 and 97191. This will return the $\\textrm{k}^{\\textrm{th}}$ word, along with its associated vector. The access just the word, type \"word[k].text\" and to access the vector, type \"word[k].vector\""
   ]
  },
  {
   "cell_type": "code",
   "execution_count": 3,
   "metadata": {},
   "outputs": [
    {
     "data": {
      "text/plain": [
       "the [0.06201368612722707, 0.011061527068401708, ...]"
      ]
     },
     "execution_count": 3,
     "metadata": {},
     "output_type": "execute_result"
    }
   ],
   "source": [
    "words[0]"
   ]
  },
  {
   "cell_type": "markdown",
   "metadata": {},
   "source": [
    "We can visualize some of these vectors by plotting the first two entries of the 300-length array. Let's see what this looks like."
   ]
  },
  {
   "cell_type": "code",
   "execution_count": 4,
   "metadata": {},
   "outputs": [
    {
     "data": {
      "image/png": "[encoded data removed]",
      "text/plain": [
       "<matplotlib.figure.Figure at 0x7fc423eeee10>"
      ]
     },
     "metadata": {},
     "output_type": "display_data"
    }
   ],
   "source": [
    "for i in range(0,151,10):\n",
    "    x,y = words[i].vector[0:2]\n",
    "    wordtext = words[i].text\n",
    "    plt.scatter(x,y,c=\"red\")\n",
    "    plt.annotate(wordtext,xy=(x,y),xytext=(x+.0005,y))"
   ]
  },
  {
   "cell_type": "markdown",
   "metadata": {},
   "source": [
    "Note that these are only 2 of the 300 dimensions of our vector, so it's not a perfect representation of our words.\n",
    "\n",
    "** Q **: Do you see any patterns between clusters of words?"
   ]
  },
  {
   "cell_type": "markdown",
   "metadata": {},
   "source": [
    "To get a better sense of how similar two words are, we have the function \"cosine_similarity(vector1,vector2)\". This function finds the angle between the vectors for two words and determines how similar they are (it returns 1 if they are very similar and -1 if they are not very similar). The following code will compute the similarity between two words given by you! Try out some pairs!"
   ]
  },
  {
   "cell_type": "code",
   "execution_count": 28,
   "metadata": {},
   "outputs": [
    {
     "name": "stdout",
     "output_type": "stream",
     "text": [
      "The cosine similarity between these two words is 0.5286601700408577\n"
     ]
    }
   ],
   "source": [
    "word1 = \"baby\";#### insert word here\n",
    "word2 = \"bottle\";#### insert word here\n",
    "\n",
    "word1_w = ft.find_word(words,word1) ###Find these words in our list of words\n",
    "word2_w = ft.find_word(words,word2)\n",
    "\n",
    "#compute the similarity between these words\n",
    "similarity = ft.cosine_similarity(word1_w.vector,word2_w.vector)\n",
    "\n",
    "print(\"The cosine similarity between these two words is \" + str(similarity))"
   ]
  }
 ],
 "metadata": {
  "kernelspec": {
   "display_name": "Python 3",
   "language": "python",
   "name": "python3"
  },
  "language_info": {
   "codemirror_mode": {
    "name": "ipython",
    "version": 3
   },
   "file_extension": ".py",
   "mimetype": "text/x-python",
   "name": "python",
   "nbconvert_exporter": "python",
   "pygments_lexer": "ipython3",
   "version": "3.6.4"
  }
 },
 "nbformat": 4,
 "nbformat_minor": 2
}
