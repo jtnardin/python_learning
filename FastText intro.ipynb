{
 "cells": [
  {
   "cell_type": "code",
   "execution_count": 1,
   "metadata": {},
   "outputs": [],
   "source": [
    "import numpy as np\n",
    "\n",
    "from typing import List\n",
    "import vectors as v\n",
    "from vectors import Vector\n",
    "import FastText_helpers as ft\n",
    "from load import load_words\n",
    "import math"
   ]
  },
  {
   "cell_type": "code",
   "execution_count": 2,
   "metadata": {},
   "outputs": [
    {
     "name": "stdout",
     "output_type": "stream",
     "text": [
      "Loading nlp/data/wiki-news-300d-100k.vec...\n",
      "Loaded 100000 words.\n",
      "Removed stop words, 98650 remain.\n",
      "Removed duplicates, 97192 remain.\n"
     ]
    }
   ],
   "source": [
    "words = load_words('nlp/data/wiki-news-300d-100k.vec')"
   ]
  },
  {
   "cell_type": "code",
   "execution_count": 4,
   "metadata": {},
   "outputs": [
    {
     "name": "stdout",
     "output_type": "stream",
     "text": [
      "democrat is to blue as republican is to red\n"
     ]
    }
   ],
   "source": [
    "ft.print_analogy(\"democrat\",\"blue\",\"republican\",words)"
   ]
  }
 ],
 "metadata": {
  "kernelspec": {
   "display_name": "Python 3",
   "language": "python",
   "name": "python3"
  },
  "language_info": {
   "codemirror_mode": {
    "name": "ipython",
    "version": 3
   },
   "file_extension": ".py",
   "mimetype": "text/x-python",
   "name": "python",
   "nbconvert_exporter": "python",
   "pygments_lexer": "ipython3",
   "version": "3.6.4"
  }
 },
 "nbformat": 4,
 "nbformat_minor": 2
}
