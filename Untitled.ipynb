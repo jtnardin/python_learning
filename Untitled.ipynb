{
 "cells": [
  {
   "cell_type": "code",
   "execution_count": 5,
   "metadata": {},
   "outputs": [
    {
     "name": "stdout",
     "output_type": "stream",
     "text": [
      "Loading data/words-short.vec...\n",
      "Loaded 999 words.\n",
      "Removed stop words, 941 remain.\n",
      "Removed duplicates, 941 remain.\n",
      "Words related to section:\n",
      "article, reference, sentence, references, part, here, link, page, list, history\n",
      "Words related to question:\n",
      "answer, questions, ask, whether, issue, problem, point, matter, debate, thing\n",
      "Words related to development:\n",
      "growth, research, design, production, projects, economic, technology, project, education, building\n",
      "Words related to staff:\n",
      "members, team, students, management, services, school, University, police, office, room\n",
      "\n",
      "man-him is like woman-her\n",
      "quick-quickest is like far-?\n",
      "sushi-rice is like pizza-?\n",
      "Paris-France is like Rome-?\n",
      "dog-mammal is like eagle-?\n",
      "German-BMW is like American-?\n",
      "German-Opel is like American-?\n"
     ]
    }
   ],
   "source": [
    "run main.py"
   ]
  }
 ],
 "metadata": {
  "kernelspec": {
   "display_name": "Python 3",
   "language": "python",
   "name": "python3"
  },
  "language_info": {
   "codemirror_mode": {
    "name": "ipython",
    "version": 3
   },
   "file_extension": ".py",
   "mimetype": "text/x-python",
   "name": "python",
   "nbconvert_exporter": "python",
   "pygments_lexer": "ipython3",
   "version": "3.6.4"
  }
 },
 "nbformat": 4,
 "nbformat_minor": 2
}
