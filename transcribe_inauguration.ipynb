{
 "cells": [
  {
   "cell_type": "code",
   "execution_count": 1,
   "metadata": {},
   "outputs": [],
   "source": [
    "from sklearn.feature_extraction.text import CountVectorizer    # import CountVectorizer \n",
    "vectorizer = CountVectorizer()                                 # initialize the vectorizer\n",
    "#X = vectorizer.fit_transform()                               # fit to training data and transform to matrix \n",
    "import numpy as np\n",
    "import math"
   ]
  },
  {
   "cell_type": "code",
   "execution_count": 2,
   "metadata": {},
   "outputs": [],
   "source": [
    "InaugText = open(\"inauguration2009.txt\").readlines()"
   ]
  },
  {
   "cell_type": "code",
   "execution_count": 3,
   "metadata": {},
   "outputs": [
    {
     "name": "stdout",
     "output_type": "stream",
     "text": [
      "<class 'numpy.matrixlib.defmatrix.matrix'>\n"
     ]
    },
    {
     "data": {
      "text/plain": [
       "(35,)"
      ]
     },
     "execution_count": 3,
     "metadata": {},
     "output_type": "execute_result"
    }
   ],
   "source": [
    "X = vectorizer.fit_transform(InaugText)\n",
    "D_tot = X.shape[0]\n",
    "Xtfidf = np.zeros(X.shape)\n",
    "\n",
    "print(type(X[:,1].todense()))\n",
    "Xtfidf[:,1].shape"
   ]
  },
  {
   "cell_type": "code",
   "execution_count": 4,
   "metadata": {},
   "outputs": [],
   "source": [
    "#construct Xtfidf matrix\n",
    "for i,col in enumerate(X.T): #loop over rows of X (i.e. lines)\n",
    "    \n",
    "    #number of lines the word appears in (no need for smoothing here)\n",
    "    freq = np.count_nonzero(col.todense())    \n",
    "    #compute theidf\n",
    "    idf = math.log(D_tot/(freq))\n",
    "    #calculate the tf-idf\n",
    "    Xtfidf[:,i:i+1] = X[:,i].todense()*idf\n",
    "    "
   ]
  },
  {
   "cell_type": "code",
   "execution_count": 5,
   "metadata": {},
   "outputs": [],
   "source": [
    "#normalize Xtfidf matrix\n",
    "\n",
    "row_norms = np.array([np.linalg.norm(row) for row in Xtfidf])\n",
    "Xtfidf_norm = np.dot(np.diag(1./row_norms),Xtfidf)"
   ]
  },
  {
   "cell_type": "code",
   "execution_count": 6,
   "metadata": {},
   "outputs": [
    {
     "data": {
      "text/plain": [
       "34"
      ]
     },
     "execution_count": 6,
     "metadata": {},
     "output_type": "execute_result"
    }
   ],
   "source": [
    "np.argmax(Xtfidf_norm[0])"
   ]
  },
  {
   "cell_type": "code",
   "execution_count": 7,
   "metadata": {},
   "outputs": [],
   "source": [
    "#create a list from the dictionary\n",
    "V_words, V_nums = vectorizer.vocabulary_.keys(), vectorizer.vocabulary_.values()\n",
    "V_reverse = zip(V_nums,V_words)\n",
    "V_reverse_dict = dict(V_reverse)"
   ]
  },
  {
   "cell_type": "code",
   "execution_count": 22,
   "metadata": {},
   "outputs": [
    {
     "data": {
      "text/plain": [
       "'ancestors'"
      ]
     },
     "execution_count": 22,
     "metadata": {},
     "output_type": "execute_result"
    }
   ],
   "source": [
    "V_reverse_dict[34]"
   ]
  },
  {
   "cell_type": "code",
   "execution_count": 31,
   "metadata": {},
   "outputs": [
    {
     "name": "stdout",
     "output_type": "stream",
     "text": [
      "The top words in this row are  ancestors\n",
      "The top words in this row are  bush\n",
      "The top words in this row are  taken\n",
      "The top words in this row are  so\n",
      "The top words in this row are  too\n",
      "The top words in this row are  less\n",
      "The top words in this row are  met\n",
      "The top words in this row are  come\n",
      "The top words in this row are  greatness\n",
      "The top words in this row are  they\n",
      "The top words in this row are  bigger\n",
      "The top words in this row are  last\n",
      "The top words in this row are  will\n",
      "The top words in this row are  what\n",
      "The top words in this row are  whether\n",
      "The top words in this row are  good\n",
      "The top words in this row are  charter\n",
      "The top words in this row are  born\n",
      "The top words in this row are  power\n",
      "The top words in this row are  even\n",
      "The top words in this row are  you\n",
      "The top words in this row are  shall\n",
      "The top words in this row are  mutual\n",
      "The top words in this row are  cling\n",
      "The top words in this row are  nations\n",
      "The top words in this row are  ages\n",
      "The top words in this row are  embody\n",
      "The top words in this row are  hours\n",
      "The top words in this row are  may\n",
      "The top words in this row are  duties\n",
      "The top words in this row are  why\n",
      "The top words in this row are  was\n",
      "The top words in this row are  alarmed\n",
      "The top words in this row are  let\n",
      "The top words in this row are  bless\n"
     ]
    }
   ],
   "source": [
    "for row in Xtfidf_norm:\n",
    "    row_str = \" \"\n",
    "    row_str = row_str + V_reverse_dict[np.argmax(row)]\n",
    "    #top_words_ind = np.argsort(row)[-5:]\n",
    "    #for ii in top_words_ind:\n",
    "    #    row_str = row_str + V_reverse_dict[ii] + \" \"\n",
    "    \n",
    "    print(\"The top word in this row is \" + row_str)\n",
    "    \n",
    "    "
   ]
  },
  {
   "cell_type": "code",
   "execution_count": 29,
   "metadata": {},
   "outputs": [
    {
     "data": {
      "text/plain": [
       "'ancestors'"
      ]
     },
     "execution_count": 29,
     "metadata": {},
     "output_type": "execute_result"
    }
   ],
   "source": [
    "V_reverse_dict[34]"
   ]
  }
 ],
 "metadata": {
  "kernelspec": {
   "display_name": "Python 3",
   "language": "python",
   "name": "python3"
  },
  "language_info": {
   "codemirror_mode": {
    "name": "ipython",
    "version": 3
   },
   "file_extension": ".py",
   "mimetype": "text/x-python",
   "name": "python",
   "nbconvert_exporter": "python",
   "pygments_lexer": "ipython3",
   "version": "3.6.4"
  }
 },
 "nbformat": 4,
 "nbformat_minor": 2
}
